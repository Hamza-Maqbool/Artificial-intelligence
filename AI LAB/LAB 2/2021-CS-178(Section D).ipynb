{
 "cells": [
  {
   "cell_type": "code",
   "execution_count": 3,
   "id": "5a932c1d-1ca5-4025-b0f1-73a39c74f8e1",
   "metadata": {},
   "outputs": [
    {
     "name": "stdout",
     "output_type": "stream",
     "text": [
      "Length of Longest Common Substring:4\n"
     ]
    }
   ],
   "source": [
    "def longestCommonSubstringRecursive(s1, s2, m, n, current_length):\n",
    "    \n",
    "    if m == 0 or n == 0:\n",
    "        return current_length\n",
    "\n",
    "    \n",
    "    if s1[m - 1] == s2[n - 1]:\n",
    "        current_length = longestCommonSubstringRecursive(s1, s2, m - 1, n - 1, current_length + 1)\n",
    "    \n",
    "   \n",
    "    else:\n",
    "        current_length = 0\n",
    "    \n",
    "   \n",
    "    return max(\n",
    "        current_length,\n",
    "        longestCommonSubstringRecursive(s1, s2, m - 1, n, 0),\n",
    "        longestCommonSubstringRecursive(s1, s2, m, n - 1, 0)\n",
    "    )\n",
    "\n",
    "def longestCommonSubstring(s1, s2):\n",
    "    m = len(s1)\n",
    "    n = len(s2)\n",
    "    current_length = 0\n",
    "    return longestCommonSubstringRecursive(s1, s2, m, n, current_length)\n",
    "\n",
    "\n",
    "s1 = \"ABABC\"\n",
    "s2 = \"BABCAB\"\n",
    "\n",
    "length = longestCommonSubstring(s1, s2)\n",
    "print(f\"Length of Longest Common Substring:{length}\")"
   ]
  },
  {
   "cell_type": "code",
   "execution_count": 5,
   "id": "e421000d",
   "metadata": {},
   "outputs": [
    {
     "name": "stdout",
     "output_type": "stream",
     "text": [
      "The 15-th Fibonacci number is 610\n"
     ]
    }
   ],
   "source": [
    "def fibonacci_number(n, memo={}):\n",
    " \n",
    "    if n <= 1:\n",
    "        return n\n",
    "    \n",
    "    \n",
    "    if n in memo:\n",
    "        return memo[n]\n",
    "    \n",
    "   \n",
    "    result = fibonacci_number(n - 1, memo) + fibonacci_number(n - 2, memo)\n",
    "    memo[n] = result\n",
    "    \n",
    "    return result\n",
    "\n",
    "n = 15\n",
    "result = fibonacci_number(n)\n",
    "print(f\"The {n}-th Fibonacci number is {result}\")"
   ]
  },
  {
   "cell_type": "code",
   "execution_count": null,
   "id": "9a7e3745-3a0a-4fdf-bb8c-e80079f5d265",
   "metadata": {},
   "outputs": [],
   "source": []
  }
 ],
 "metadata": {
  "kernelspec": {
   "display_name": "Python 3",
   "language": "python",
   "name": "python3"
  },
  "language_info": {
   "codemirror_mode": {
    "name": "ipython",
    "version": 3
   },
   "file_extension": ".py",
   "mimetype": "text/x-python",
   "name": "python",
   "nbconvert_exporter": "python",
   "pygments_lexer": "ipython3",
   "version": "3.11.5 (tags/v3.11.5:cce6ba9, Aug 24 2023, 14:38:34) [MSC v.1936 64 bit (AMD64)]"
  },
  "vscode": {
   "interpreter": {
    "hash": "3fe8d4214b7da55161851c045281715d44a3ccad73f14aa279903238806ac07e"
   }
  }
 },
 "nbformat": 4,
 "nbformat_minor": 5
}
