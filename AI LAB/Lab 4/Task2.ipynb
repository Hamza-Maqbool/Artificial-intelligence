{
 "cells": [
  {
   "cell_type": "code",
   "execution_count": 4,
   "metadata": {},
   "outputs": [
    {
     "name": "stdout",
     "output_type": "stream",
     "text": [
      "BFS Path: ['A', 'C', 'F']\n",
      "DFS Path: ['A', 'C', 'F']\n"
     ]
    }
   ],
   "source": [
    "from collections import deque\n",
    "\n",
    "class Node:\n",
    "    def __init__(self, value):\n",
    "        self.value = value\n",
    "        self.neighbors = []\n",
    "\n",
    "    def add_neighbor(self, neighbor):\n",
    "        self.neighbors.append(neighbor)\n",
    "\n",
    "class Graph:\n",
    "    def __init__(self):\n",
    "        self.nodes = {}\n",
    "\n",
    "    def add_node(self, value):\n",
    "        if value not in self.nodes:\n",
    "            self.nodes[value] = Node(value)\n",
    "\n",
    "    def add_edge(self, value1, value2):\n",
    "        if value1 in self.nodes and value2 in self.nodes:\n",
    "            self.nodes[value1].add_neighbor(value2)\n",
    "            self.nodes[value2].add_neighbor(value1)\n",
    "\n",
    "    def breadth_first_search(self, start, goal):\n",
    "        visited = set()\n",
    "        queue = deque()\n",
    "        queue.append((start, []))\n",
    "\n",
    "        while queue:\n",
    "            current_value, path = queue.popleft()\n",
    "            visited.add(current_value)\n",
    "\n",
    "            if current_value == goal:\n",
    "                return path + [current_value]\n",
    "\n",
    "            for neighbor_value in self.nodes[current_value].neighbors:\n",
    "                if neighbor_value not in visited:\n",
    "                    queue.append((neighbor_value, path + [current_value]))\n",
    "\n",
    "        return None\n",
    "\n",
    "    def depth_first_search(self, start, goal):\n",
    "        visited = set()\n",
    "        stack = [(start, [])]\n",
    "\n",
    "        while stack:\n",
    "            current_value, path = stack.pop()\n",
    "            visited.add(current_value)\n",
    "\n",
    "            if current_value == goal:\n",
    "                return path + [current_value]\n",
    "\n",
    "            for neighbor_value in self.nodes[current_value].neighbors:\n",
    "                if neighbor_value not in visited:\n",
    "                    stack.append((neighbor_value, path + [current_value]))\n",
    "\n",
    "        return None\n",
    "\n",
    "# Create a graph and add nodes and edges\n",
    "graph = Graph()\n",
    "graph.add_node('A')\n",
    "graph.add_node('B')\n",
    "graph.add_node('C')\n",
    "graph.add_node('D')\n",
    "graph.add_node('E')\n",
    "graph.add_node('F')\n",
    "\n",
    "graph.add_edge('A', 'B')\n",
    "graph.add_edge('A', 'C')\n",
    "graph.add_edge('B', 'D')\n",
    "graph.add_edge('B', 'E')\n",
    "graph.add_edge('C', 'F')\n",
    "graph.add_edge('E', 'F')\n",
    "\n",
    "start_node = 'A'\n",
    "goal_node = 'F'\n",
    "\n",
    "# Perform BFS and DFS\n",
    "bfs_result = graph.breadth_first_search(start_node, goal_node)\n",
    "dfs_result = graph.depth_first_search(start_node, goal_node)\n",
    "\n",
    "print(\"BFS Path:\", bfs_result)\n",
    "print(\"DFS Path:\", dfs_result)\n"
   ]
  }
 ],
 "metadata": {
  "kernelspec": {
   "display_name": "Python 3",
   "language": "python",
   "name": "python3"
  },
  "language_info": {
   "codemirror_mode": {
    "name": "ipython",
    "version": 3
   },
   "file_extension": ".py",
   "mimetype": "text/x-python",
   "name": "python",
   "nbconvert_exporter": "python",
   "pygments_lexer": "ipython3",
   "version": "3.11.5"
  },
  "orig_nbformat": 4,
  "vscode": {
   "interpreter": {
    "hash": "3fe8d4214b7da55161851c045281715d44a3ccad73f14aa279903238806ac07e"
   }
  }
 },
 "nbformat": 4,
 "nbformat_minor": 2
}
