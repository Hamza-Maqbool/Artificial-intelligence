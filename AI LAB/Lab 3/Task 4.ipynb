{
 "cells": [
  {
   "cell_type": "code",
   "execution_count": 1,
   "metadata": {},
   "outputs": [
    {
     "name": "stdout",
     "output_type": "stream",
     "text": [
      "The minimum number of coins required to make change for 12 is inf.\n"
     ]
    }
   ],
   "source": [
    "def minCoinsRequired(target, coins):\n",
    "   \n",
    "    dp = [float('inf')] * (target + 1)\n",
    "    dp[0] = 0 \n",
    "\n",
    "    for amount in range(1, target + 1):\n",
    "        for coin in coins:\n",
    "            if coin <= amount:\n",
    "                dp[amount] = min(dp[amount], 1 + dp[amount - coin])\n",
    "\n",
    "    return dp[target]\n",
    "\n",
    "\n",
    "target_amount = int(input(\"Enter the target amount: \"))\n",
    "denominations = list(map(int, input(\"Enter coin denominations separated by spaces: \").split()))\n",
    "\n",
    "minimum_coins = minCoinsRequired(target_amount, denominations)\n",
    "\n",
    "print(f\"The minimum number of coins required to make change for {target_amount} is {minimum_coins}.\")"
   ]
  }
 ],
 "metadata": {
  "kernelspec": {
   "display_name": "Python 3",
   "language": "python",
   "name": "python3"
  },
  "language_info": {
   "codemirror_mode": {
    "name": "ipython",
    "version": 3
   },
   "file_extension": ".py",
   "mimetype": "text/x-python",
   "name": "python",
   "nbconvert_exporter": "python",
   "pygments_lexer": "ipython3",
   "version": "3.11.5"
  },
  "orig_nbformat": 4,
  "vscode": {
   "interpreter": {
    "hash": "3fe8d4214b7da55161851c045281715d44a3ccad73f14aa279903238806ac07e"
   }
  }
 },
 "nbformat": 4,
 "nbformat_minor": 2
}
