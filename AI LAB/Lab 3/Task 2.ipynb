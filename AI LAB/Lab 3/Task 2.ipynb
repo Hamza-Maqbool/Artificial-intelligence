{
 "cells": [
  {
   "cell_type": "code",
   "execution_count": 2,
   "metadata": {},
   "outputs": [
    {
     "name": "stdout",
     "output_type": "stream",
     "text": [
      "Input: ((hy+)\n",
      "Output: (((hy+)\n"
     ]
    }
   ],
   "source": [
    "def balance_brackets(s):\n",
    "    open_count = 0\n",
    "    close_count = 0\n",
    "\n",
    "  \n",
    "    for char in s:\n",
    "        if char == '(':\n",
    "            open_count += 1\n",
    "        elif char == ')':\n",
    "            if open_count > 0:\n",
    "                open_count -= 1\n",
    "            else:\n",
    "                close_count += 1\n",
    "\n",
    "    \n",
    "    balanced_sequence = '(' * open_count + s + ')' * close_count\n",
    "\n",
    "    return balanced_sequence\n",
    "\n",
    "# Test the function\n",
    "unbalanced_sequence = input(\"Enter Equation: \")\n",
    "balanced_sequence = balance_brackets(unbalanced_sequence)\n",
    "print(\"Input:\", unbalanced_sequence)\n",
    "print(\"Output:\", balanced_sequence)\n"
   ]
  }
 ],
 "metadata": {
  "kernelspec": {
   "display_name": "Python 3",
   "language": "python",
   "name": "python3"
  },
  "language_info": {
   "codemirror_mode": {
    "name": "ipython",
    "version": 3
   },
   "file_extension": ".py",
   "mimetype": "text/x-python",
   "name": "python",
   "nbconvert_exporter": "python",
   "pygments_lexer": "ipython3",
   "version": "3.11.5"
  },
  "orig_nbformat": 4,
  "vscode": {
   "interpreter": {
    "hash": "3fe8d4214b7da55161851c045281715d44a3ccad73f14aa279903238806ac07e"
   }
  }
 },
 "nbformat": 4,
 "nbformat_minor": 2
}
