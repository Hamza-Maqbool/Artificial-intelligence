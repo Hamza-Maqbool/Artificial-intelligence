{
 "cells": [
  {
   "cell_type": "code",
   "execution_count": 3,
   "metadata": {},
   "outputs": [
    {
     "name": "stdout",
     "output_type": "stream",
     "text": [
      "Optimal Alignment:\n",
      "-AGT\n",
      "AAGC\n",
      "Alignment Score: -1\n"
     ]
    }
   ],
   "source": [
    "def global_sequence_alignment(seq1, seq2, match_score, mismatch_score, gap_penalty):\n",
    "    m, n = len(seq1), len(seq2)\n",
    "\n",
    "    # Initialize the dynamic programming matrix and traceback matrix\n",
    "    dp = [[0] * (n + 1) for _ in range(m + 1)]\n",
    "    traceback = [[0] * (n + 1) for _ in range(m + 1)]\n",
    "\n",
    "    # Initialize the first row and first column with gap penalties\n",
    "    for i in range(m + 1):\n",
    "        dp[i][0] = i * gap_penalty\n",
    "        traceback[i][0] = 'U'  # U represents an up arrow (gap in seq2)\n",
    "    for j in range(n + 1):\n",
    "        dp[0][j] = j * gap_penalty\n",
    "        traceback[0][j] = 'L'  # L represents a left arrow (gap in seq1)\n",
    "\n",
    "    # Fill in the dynamic programming matrix and traceback matrix\n",
    "    for i in range(1, m + 1):\n",
    "        for j in range(1, n + 1):\n",
    "            match = dp[i - 1][j - 1] + (match_score if seq1[i - 1] == seq2[j - 1] else mismatch_score)\n",
    "            delete = dp[i - 1][j] + gap_penalty\n",
    "            insert = dp[i][j - 1] + gap_penalty\n",
    "            dp[i][j] = max(match, delete, insert)\n",
    "\n",
    "            # Update the traceback matrix based on the maximum score\n",
    "            if dp[i][j] == match:\n",
    "                traceback[i][j] = 'D'  # D represents a diagonal arrow (match/mismatch)\n",
    "            elif dp[i][j] == delete:\n",
    "                traceback[i][j] = 'U'  # U represents an up arrow (gap in seq2)\n",
    "            else:\n",
    "                traceback[i][j] = 'L'  # L represents a left arrow (gap in seq1)\n",
    "\n",
    "    # Traceback to find the alignment\n",
    "    alignment1, alignment2 = [], []\n",
    "    i, j = m, n\n",
    "    while i > 0 or j > 0:\n",
    "        if traceback[i][j] == 'D':\n",
    "            alignment1.append(seq1[i - 1])\n",
    "            alignment2.append(seq2[j - 1])\n",
    "            i -= 1\n",
    "            j -= 1\n",
    "        elif traceback[i][j] == 'U':\n",
    "            alignment1.append(seq1[i - 1])\n",
    "            alignment2.append('-')\n",
    "            i -= 1\n",
    "        else:\n",
    "            alignment1.append('-')\n",
    "            alignment2.append(seq2[j - 1])\n",
    "            j -= 1\n",
    "\n",
    "    # Reverse the alignment sequences\n",
    "    alignment1 = ''.join(alignment1[::-1])\n",
    "    alignment2 = ''.join(alignment2[::-1])\n",
    "\n",
    "    return alignment1, alignment2, dp[m][n]\n",
    "\n",
    "# Example usage:\n",
    "seq1 = \"AGT\"\n",
    "seq2 = \"AAGC\"\n",
    "match_score = 1\n",
    "mismatch_score = -1\n",
    "gap_penalty = -2\n",
    "\n",
    "alignment1, alignment2, alignment_score = global_sequence_alignment(seq1, seq2, match_score, mismatch_score, gap_penalty)\n",
    "\n",
    "print(\"Optimal Alignment:\")\n",
    "print(alignment1)\n",
    "print(alignment2)\n",
    "print(\"Alignment Score:\", alignment_score)"
   ]
  }
 ],
 "metadata": {
  "kernelspec": {
   "display_name": "Python 3",
   "language": "python",
   "name": "python3"
  },
  "language_info": {
   "codemirror_mode": {
    "name": "ipython",
    "version": 3
   },
   "file_extension": ".py",
   "mimetype": "text/x-python",
   "name": "python",
   "nbconvert_exporter": "python",
   "pygments_lexer": "ipython3",
   "version": "3.11.5"
  },
  "orig_nbformat": 4,
  "vscode": {
   "interpreter": {
    "hash": "3fe8d4214b7da55161851c045281715d44a3ccad73f14aa279903238806ac07e"
   }
  }
 },
 "nbformat": 4,
 "nbformat_minor": 2
}
