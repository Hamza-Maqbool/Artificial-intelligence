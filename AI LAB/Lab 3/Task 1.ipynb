{
 "cells": [
  {
   "cell_type": "code",
   "execution_count": 2,
   "metadata": {},
   "outputs": [
    {
     "name": "stdout",
     "output_type": "stream",
     "text": [
      "The edit distance between 'ali' and 'ahmad' is 4.\n"
     ]
    }
   ],
   "source": [
    "def edit_distance(str1, str2):\n",
    "    m = len(str1)\n",
    "    n = len(str2)\n",
    "\n",
    "    dp = [[0] * (n + 1) for _ in range(m + 1)]\n",
    "\n",
    "    for i in range(m + 1):\n",
    "        dp[i][0] = i\n",
    "    for j in range(n + 1):\n",
    "        dp[0][j] = j\n",
    "\n",
    " \n",
    "    for i in range(1, m + 1):\n",
    "        for j in range(1, n + 1):\n",
    "            cost = 0 if str1[i - 1] == str2[j - 1] else 1\n",
    "            dp[i][j] = min(\n",
    "                dp[i - 1][j] + 1, \n",
    "                dp[i][j - 1] + 1, \n",
    "                dp[i - 1][j - 1] + cost,  \n",
    "            )\n",
    "\n",
    "    return dp[m][n]\n",
    "\n",
    "# Test the function\n",
    "\n",
    "str1 = input(\"Enter the First word: \");\n",
    "str2 = input(\"Enter the Second word: \");\n",
    "distance = edit_distance(str1, str2)\n",
    "print(f\"The edit distance between '{str1}' and '{str2}' is {distance}.\")"
   ]
  }
 ],
 "metadata": {
  "kernelspec": {
   "display_name": "Python 3",
   "language": "python",
   "name": "python3"
  },
  "language_info": {
   "codemirror_mode": {
    "name": "ipython",
    "version": 3
   },
   "file_extension": ".py",
   "mimetype": "text/x-python",
   "name": "python",
   "nbconvert_exporter": "python",
   "pygments_lexer": "ipython3",
   "version": "3.11.5"
  },
  "orig_nbformat": 4,
  "vscode": {
   "interpreter": {
    "hash": "3fe8d4214b7da55161851c045281715d44a3ccad73f14aa279903238806ac07e"
   }
  }
 },
 "nbformat": 4,
 "nbformat_minor": 2
}
