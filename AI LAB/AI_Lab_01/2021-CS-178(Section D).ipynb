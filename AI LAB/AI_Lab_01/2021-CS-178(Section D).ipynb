{
  "cells": [
    {
      "cell_type": "markdown",
      "metadata": {
        "id": "99uzECDycBC9"
      },
      "source": [
        "# <center>Artificial Intelligence Lab</center>  <center>Fall 2023</center>\n",
        "## Lab 01\n",
        "#### Name:\n",
        "#### Roll number:\n"
      ]
    },
    {
      "cell_type": "markdown",
      "metadata": {
        "id": "oGeXcV1ieX5k"
      },
      "source": [
        "Take weight in kgs and convert it into pounds. 1 pound = 1 kg 2.2046 **(2 marks)**"
      ]
    },
    {
      "cell_type": "code",
      "execution_count": 2,
      "metadata": {
        "id": "kLLZInc9eZX9",
        "colab": {
          "base_uri": "https://localhost:8080/"
        },
        "outputId": "39a198bb-b117-4ea1-f8c3-875bb65b40a7"
      },
      "outputs": [
        {
          "output_type": "stream",
          "name": "stdout",
          "text": [
            "Enter the WEIGHT in KG5\n",
            "11.023\n"
          ]
        }
      ],
      "source": [
        "## add code here\n",
        "weight=input(\"Enter the WEIGHT in KG\")\n",
        "weight=float(weight)*2.2046\n",
        "print(weight)\n"
      ]
    },
    {
      "cell_type": "markdown",
      "metadata": {
        "id": "xLXJt74qebph"
      },
      "source": [
        "Calculate the cost of all the items in a shopping cart. **(2 marks)**"
      ]
    },
    {
      "cell_type": "code",
      "execution_count": 4,
      "metadata": {
        "id": "Pd59WwdpehIW",
        "colab": {
          "base_uri": "https://localhost:8080/"
        },
        "outputId": "6135510e-c7b9-4f05-edd8-a70df8240fa3"
      },
      "outputs": [
        {
          "output_type": "stream",
          "name": "stdout",
          "text": [
            "305\n"
          ]
        }
      ],
      "source": [
        "prices =[20,50,80,10,56,89]\n",
        "\n",
        "## add code here\n",
        "sum=0\n",
        "for x in prices:\n",
        "  sum=sum+x\n",
        "print(sum)"
      ]
    },
    {
      "cell_type": "markdown",
      "metadata": {
        "id": "EGq2J0jeeqF_"
      },
      "source": [
        "Write a function that returns the maximum of two numbers. **(2 marks)**"
      ]
    },
    {
      "cell_type": "code",
      "execution_count": 12,
      "metadata": {
        "id": "joOHP51beunx",
        "colab": {
          "base_uri": "https://localhost:8080/"
        },
        "outputId": "a7cf56e4-94e4-445b-dcdc-4d9acbb17488"
      },
      "outputs": [
        {
          "output_type": "stream",
          "name": "stdout",
          "text": [
            "Enter First num15\n",
            "Enter Second num20\n",
            "20\n"
          ]
        }
      ],
      "source": [
        "## add code here\n",
        "def maxium():\n",
        "  num1=input(\"Enter First num\")\n",
        "  num2=input(\"Enter Second num\")\n",
        "  if(num1>num2):\n",
        "    print(num1)\n",
        "\n",
        "  else:\n",
        "     print(num2)\n",
        "\n",
        "maxium();"
      ]
    },
    {
      "cell_type": "markdown",
      "metadata": {
        "id": "B8cHTHEYe1em"
      },
      "source": [
        "Write a function called **deepmind** that takes a number  **(4 marks)**\n",
        "* If the number is divisible by 3, it should return deep.\n",
        "* If it is divisible by 5, it should return mind.\n",
        "* If it is divisible by both 3 and 5, it should return deepmind.\n",
        "* Otherwise, it should return the same number.\n",
        "\n",
        "\n"
      ]
    },
    {
      "cell_type": "code",
      "execution_count": 20,
      "metadata": {
        "id": "k7r-_lhqfAtQ",
        "colab": {
          "base_uri": "https://localhost:8080/",
          "height": 53
        },
        "outputId": "568f7cdd-2bfc-45df-e163-31ed5abed3c0"
      },
      "outputs": [
        {
          "name": "stdout",
          "output_type": "stream",
          "text": [
            "Enter the num5\n"
          ]
        },
        {
          "output_type": "execute_result",
          "data": {
            "text/plain": [
              "'mind'"
            ],
            "application/vnd.google.colaboratory.intrinsic+json": {
              "type": "string"
            }
          },
          "metadata": {},
          "execution_count": 20
        }
      ],
      "source": [
        "## add code here\n",
        "def deepmind(number):\n",
        "  if(number % 3==0):\n",
        "    return(\"deep\")\n",
        "  elif(number % 5==0):\n",
        "    return(\"mind\")\n",
        "  elif(number % 5==0 and number % 3==0):\n",
        "    return(\"deepmind\")\n",
        "  else:\n",
        "    return(number)\n",
        "\n",
        "number=input(\"Enter the num\")\n",
        "deepmind(int(number))"
      ]
    },
    {
      "cell_type": "markdown",
      "metadata": {
        "id": "rY5K6INzcGDS"
      },
      "source": [
        "**listA** =  [1,2,3,4,5,6,7,8,9,10]  \n",
        "\n",
        "If an element of **listA** is smaller than 5, replace it with 0. And if an element of x is bigger than 5, replace it with 1. (**2 marks**)"
      ]
    },
    {
      "cell_type": "code",
      "execution_count": 24,
      "metadata": {
        "id": "qEAtvmNycFsQ",
        "colab": {
          "base_uri": "https://localhost:8080/"
        },
        "outputId": "f2367285-0851-473d-c220-c83d7e88a2c6"
      },
      "outputs": [
        {
          "output_type": "stream",
          "name": "stdout",
          "text": [
            "[0, 0, 0, 0, 5, 1, 1, 1, 1, 1]\n"
          ]
        }
      ],
      "source": [
        "## add code here\n",
        "listA =[1,2,3,4,5,6,7,8,9,10]\n",
        "for i in range(len(listA)):\n",
        "  if(listA[i] < 5):\n",
        "    listA[i]=0\n",
        "  elif(listA[i]>5):\n",
        "    listA[i]=1\n",
        "\n",
        "print(listA)\n",
        "\n"
      ]
    },
    {
      "cell_type": "markdown",
      "metadata": {
        "id": "m5tWGbKxcIug"
      },
      "source": [
        "Compute the square of **listA** elements in one line. (**2 marks**)\n"
      ]
    },
    {
      "cell_type": "code",
      "execution_count": 27,
      "metadata": {
        "id": "ajneZNrXcL0A",
        "colab": {
          "base_uri": "https://localhost:8080/"
        },
        "outputId": "040fcaa5-b828-4c02-8e08-7a2693b863d1"
      },
      "outputs": [
        {
          "output_type": "stream",
          "name": "stdout",
          "text": [
            "<generator object <genexpr> at 0x7f5a19dff680>\n"
          ]
        }
      ],
      "source": [
        "listA = [1,2,3,4,5,6,7,8,9,10]\n",
        "## add code here\n",
        "print(i**2 for i in listA)\n",
        "\n"
      ]
    },
    {
      "cell_type": "markdown",
      "metadata": {
        "id": "vPO_Yx8BcL-Q"
      },
      "source": [
        "Concatenate b1 and b2. (**2 marks**)"
      ]
    },
    {
      "cell_type": "code",
      "execution_count": 28,
      "metadata": {
        "id": "BREFhCCbcPGw",
        "colab": {
          "base_uri": "https://localhost:8080/"
        },
        "outputId": "5cc397dc-3972-4aff-a237-53a31bdfc899"
      },
      "outputs": [
        {
          "output_type": "stream",
          "name": "stdout",
          "text": [
            "['Hello', 'in', 'first', 'Students', 'the', 'recitation']\n"
          ]
        }
      ],
      "source": [
        "b1 = ['Hello', 'in','first']\n",
        "b2 = ['Students','the','recitation']\n",
        "## add code here\n",
        "print(b1+b2)"
      ]
    },
    {
      "cell_type": "markdown",
      "metadata": {
        "id": "ri-m2ia5chLO"
      },
      "source": [
        "Create a dictionary of student **Ali** where the keys are courses and values are total and obtaining marks in each course. Print the dictionary items subjects wise **(2 marks)**"
      ]
    },
    {
      "cell_type": "code",
      "execution_count": 29,
      "metadata": {
        "id": "m8FMBIGbchwa",
        "colab": {
          "base_uri": "https://localhost:8080/"
        },
        "outputId": "637a70d4-412f-4afa-e359-8627c7b5ba66"
      },
      "outputs": [
        {
          "output_type": "stream",
          "name": "stdout",
          "text": [
            "{'English': '30/10', 'urdu': '50/100'}\n"
          ]
        }
      ],
      "source": [
        "## add code here\n",
        "dict_Ali={'English':'30'+'/10','urdu':'50'+'/100'}\n",
        "print(dict_Ali)\n"
      ]
    },
    {
      "cell_type": "markdown",
      "metadata": {
        "id": "ZylTcdsIclSP"
      },
      "source": [
        "Create a class 'calculator' with the following functions to compute i) addition, ii) subtraction, iii)multiplication, iv)division and v)square\n",
        "between two numbers. **(2 marks)**"
      ]
    },
    {
      "cell_type": "code",
      "execution_count": 30,
      "metadata": {
        "id": "SX_v-PbuclrV",
        "colab": {
          "base_uri": "https://localhost:8080/"
        },
        "outputId": "24c4e7ad-d74e-4af2-f08a-b10d1f3515a1"
      },
      "outputs": [
        {
          "output_type": "stream",
          "name": "stdout",
          "text": [
            "Addition result: 8\n",
            "Subtraction result: 6\n",
            "Multiplication result: 42\n",
            "Division result: 4.0\n",
            "Square result: 81\n"
          ]
        }
      ],
      "source": [
        "## add code here\n",
        "class Calculator:\n",
        "    def add(self, num1, num2):\n",
        "        return num1 + num2\n",
        "\n",
        "    def subtract(self, num1, num2):\n",
        "        return num1 - num2\n",
        "\n",
        "    def multiply(self, num1, num2):\n",
        "        return num1 * num2\n",
        "\n",
        "    def divide(self, num1, num2):\n",
        "        if num2 == 0:\n",
        "            return \"Division by zero is not allowed\"\n",
        "        return num1 / num2\n",
        "\n",
        "    def square(self, num):\n",
        "        return num ** 2\n",
        "\n",
        "calc = Calculator()\n",
        "\n",
        "result_add = calc.add(5, 3)\n",
        "print(\"Addition result:\", result_add)\n",
        "\n",
        "result_subtract = calc.subtract(10, 4)\n",
        "print(\"Subtraction result:\", result_subtract)\n",
        "\n",
        "result_multiply = calc.multiply(6, 7)\n",
        "print(\"Multiplication result:\", result_multiply)\n",
        "\n",
        "result_divide = calc.divide(8, 2)\n",
        "print(\"Division result:\", result_divide)\n",
        "\n",
        "result_square = calc.square(9)\n",
        "print(\"Square result:\", result_square)\n"
      ]
    }
  ],
  "metadata": {
    "colab": {
      "provenance": []
    },
    "kernelspec": {
      "display_name": "Python 3 (ipykernel)",
      "language": "python",
      "name": "python3"
    },
    "language_info": {
      "codemirror_mode": {
        "name": "ipython",
        "version": 3
      },
      "file_extension": ".py",
      "mimetype": "text/x-python",
      "name": "python",
      "nbconvert_exporter": "python",
      "pygments_lexer": "ipython3",
      "version": "3.9.7"
    }
  },
  "nbformat": 4,
  "nbformat_minor": 0
}